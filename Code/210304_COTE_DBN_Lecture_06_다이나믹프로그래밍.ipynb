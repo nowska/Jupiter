{
 "cells": [
  {
   "cell_type": "markdown",
   "metadata": {},
   "source": [
    "# 06.다이나믹프로그래밍"
   ]
  },
  {
   "cell_type": "markdown",
   "metadata": {},
   "source": [
    "## 06_01.피보나치 수열"
   ]
  },
  {
   "cell_type": "code",
   "execution_count": 5,
   "metadata": {},
   "outputs": [
    {
     "name": "stdout",
     "output_type": "stream",
     "text": [
      "2\n",
      "4\n",
      "8\n",
      "16\n",
      "32\n",
      "64\n",
      "128\n"
     ]
    }
   ],
   "source": [
    "### 피보나치 수열 (솔플)\n",
    "\n",
    "a = 1\n",
    "b = 1\n",
    "result = 0\n",
    "\n",
    "while result < 100:\n",
    "    result = a + b\n",
    "    b = result\n",
    "    a = b\n",
    "    print(result)\n",
    "    \n",
    "    \n",
    "# 리스트형태로 풀면 될듯!    "
   ]
  },
  {
   "cell_type": "code",
   "execution_count": 8,
   "metadata": {},
   "outputs": [
    {
     "name": "stdout",
     "output_type": "stream",
     "text": [
      "3\n"
     ]
    }
   ],
   "source": [
    "### 피보나치수열 재귀함수 구현 (답안1)\n",
    "\n",
    "def fibo(x):\n",
    "    if x == 1 or x == 2 :\n",
    "        return 1\n",
    "    return fibo(x - 1) + fibo(x - 2)\n",
    "\n",
    "print(fibo(4))\n",
    "\n",
    "\n",
    "### 재귀함수를 사용한 경우 f(2) 가 중복되어 호출됨 -> 시간복잡도 증가"
   ]
  },
  {
   "cell_type": "code",
   "execution_count": 10,
   "metadata": {},
   "outputs": [
    {
     "name": "stdout",
     "output_type": "stream",
     "text": [
      "218922995834555169026\n"
     ]
    }
   ],
   "source": [
    "### 피보나치 수열 탑다운 다이나믹 프로그래밍 방식\n",
    "\n",
    "# 한 번 계산된 결과를 메모이제이션(Memoization)하기 위한 리스트 초기화\n",
    "d = [0] * 100\n",
    "\n",
    "# 피보나치 함수(Fibonacci Function)를 재귀함수로 구현 (탑다운 다이나믹 프로그래밍)\n",
    "def fibo(x):\n",
    "    # 종료 조건(1 혹은 2일 때 1을 반환)\n",
    "    if x == 1 or x == 2:\n",
    "        return 1\n",
    "    # 이미 계산한 적 있는 문제라면 그대로 반환\n",
    "    if d[x] != 0:\n",
    "        return d[x]\n",
    "    # 아직 계산하지 않은 문제라면 점화식에 따라서 피보나치 결과 반환\n",
    "    d[x] = fibo(x - 1) + fibo(x - 2)\n",
    "    return d[x]\n",
    "\n",
    "print(fibo(99))"
   ]
  },
  {
   "cell_type": "code",
   "execution_count": 15,
   "metadata": {},
   "outputs": [
    {
     "name": "stdout",
     "output_type": "stream",
     "text": [
      "99\n",
      "218922995834555169026\n"
     ]
    }
   ],
   "source": [
    "### 피보나치 수열 보텀업 다이나믹 프로그래밍 방식\n",
    "\n",
    "n = int(input())\n",
    "\n",
    "\n",
    "# 앞서 계산된 결과를 저장하기 위한 DP 테이블 초기화\n",
    "d = [0] * (n+1)\n",
    "\n",
    "# 첫 번째 피보나치 수와 두 번째 피보나치 수는 1\n",
    "d[1] = 1\n",
    "d[2] = 1\n",
    "\n",
    "# 피보나치 함수(Fibonacci Function) 반복문으로 구현(보텀업 다이나믹 프로그래밍)\n",
    "for i in range(3, n + 1):\n",
    "    d[i] = d[i - 1] + d[i - 2]\n",
    "\n",
    "print(d[n])"
   ]
  }
 ],
 "metadata": {
  "kernelspec": {
   "display_name": "Python 3",
   "language": "python",
   "name": "python3"
  },
  "language_info": {
   "codemirror_mode": {
    "name": "ipython",
    "version": 3
   },
   "file_extension": ".py",
   "mimetype": "text/x-python",
   "name": "python",
   "nbconvert_exporter": "python",
   "pygments_lexer": "ipython3",
   "version": "3.8.5"
  }
 },
 "nbformat": 4,
 "nbformat_minor": 4
}
